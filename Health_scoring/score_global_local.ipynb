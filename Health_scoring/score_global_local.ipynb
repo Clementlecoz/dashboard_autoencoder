{
 "cells": [
  {
   "cell_type": "markdown",
   "id": "f0914899",
   "metadata": {},
   "source": [
    "### Method which combined global/local percentil score "
   ]
  },
  {
   "cell_type": "code",
   "execution_count": 2,
   "id": "3c7dec47",
   "metadata": {},
   "outputs": [],
   "source": [
    "import pandas as pd\n",
    "import numpy as np"
   ]
  },
  {
   "cell_type": "code",
   "execution_count": 3,
   "id": "3fde39ad",
   "metadata": {},
   "outputs": [
    {
     "data": {
      "text/html": [
       "<div>\n",
       "<style scoped>\n",
       "    .dataframe tbody tr th:only-of-type {\n",
       "        vertical-align: middle;\n",
       "    }\n",
       "\n",
       "    .dataframe tbody tr th {\n",
       "        vertical-align: top;\n",
       "    }\n",
       "\n",
       "    .dataframe thead th {\n",
       "        text-align: right;\n",
       "    }\n",
       "</style>\n",
       "<table border=\"1\" class=\"dataframe\">\n",
       "  <thead>\n",
       "    <tr style=\"text-align: right;\">\n",
       "      <th></th>\n",
       "      <th>company</th>\n",
       "      <th>date</th>\n",
       "      <th>quarter</th>\n",
       "      <th>country</th>\n",
       "      <th>ROA</th>\n",
       "      <th>ROE</th>\n",
       "      <th>debt_to_equity</th>\n",
       "      <th>current_ratio</th>\n",
       "      <th>net_margin</th>\n",
       "      <th>revenue_growth</th>\n",
       "      <th>cash_ratio</th>\n",
       "      <th>inflation_YoY</th>\n",
       "      <th>gdp_growth_rate</th>\n",
       "      <th>interest_rate</th>\n",
       "    </tr>\n",
       "  </thead>\n",
       "  <tbody>\n",
       "    <tr>\n",
       "      <th>0</th>\n",
       "      <td>Banco Santander</td>\n",
       "      <td>2024-09-30</td>\n",
       "      <td>2024-Q3</td>\n",
       "      <td>Spain</td>\n",
       "      <td>NaN</td>\n",
       "      <td>NaN</td>\n",
       "      <td>16,15</td>\n",
       "      <td>0,33</td>\n",
       "      <td>NaN</td>\n",
       "      <td>6,2414</td>\n",
       "      <td>NaN</td>\n",
       "      <td>0,0217</td>\n",
       "      <td>0,0080</td>\n",
       "      <td>0,0365</td>\n",
       "    </tr>\n",
       "    <tr>\n",
       "      <th>1</th>\n",
       "      <td>Banco Santander</td>\n",
       "      <td>2024-06-30</td>\n",
       "      <td>2024-Q2</td>\n",
       "      <td>Spain</td>\n",
       "      <td>0,63</td>\n",
       "      <td>0,109</td>\n",
       "      <td>16,23</td>\n",
       "      <td>0,23</td>\n",
       "      <td>0,0906</td>\n",
       "      <td>-0,8712</td>\n",
       "      <td>0,23</td>\n",
       "      <td>0,0346</td>\n",
       "      <td>0,0080</td>\n",
       "      <td>0,0425</td>\n",
       "    </tr>\n",
       "    <tr>\n",
       "      <th>2</th>\n",
       "      <td>Banco Santander</td>\n",
       "      <td>2024-03-31</td>\n",
       "      <td>2024-Q1</td>\n",
       "      <td>Spain</td>\n",
       "      <td>0,6</td>\n",
       "      <td>0,1043</td>\n",
       "      <td>16,14</td>\n",
       "      <td>0,24</td>\n",
       "      <td>0,087</td>\n",
       "      <td>-0,6185</td>\n",
       "      <td>0,24</td>\n",
       "      <td>0,0314</td>\n",
       "      <td>0,0100</td>\n",
       "      <td>0,0450</td>\n",
       "    </tr>\n",
       "    <tr>\n",
       "      <th>3</th>\n",
       "      <td>Banco Santander</td>\n",
       "      <td>2023-12-31</td>\n",
       "      <td>2023-Q4</td>\n",
       "      <td>Spain</td>\n",
       "      <td>0,59</td>\n",
       "      <td>0,1035</td>\n",
       "      <td>16,24</td>\n",
       "      <td>0,35</td>\n",
       "      <td>0,0886</td>\n",
       "      <td>22,1927</td>\n",
       "      <td>0,34</td>\n",
       "      <td>0,0327</td>\n",
       "      <td>0,0070</td>\n",
       "      <td>0,0450</td>\n",
       "    </tr>\n",
       "    <tr>\n",
       "      <th>4</th>\n",
       "      <td>Banco Santander</td>\n",
       "      <td>2023-09-30</td>\n",
       "      <td>2023-Q3</td>\n",
       "      <td>Spain</td>\n",
       "      <td>0,55</td>\n",
       "      <td>0,0968</td>\n",
       "      <td>16,66</td>\n",
       "      <td>0,31</td>\n",
       "      <td>0,1044</td>\n",
       "      <td>0,0201</td>\n",
       "      <td>0,31</td>\n",
       "      <td>0,0282</td>\n",
       "      <td>0,0070</td>\n",
       "      <td>0,0450</td>\n",
       "    </tr>\n",
       "  </tbody>\n",
       "</table>\n",
       "</div>"
      ],
      "text/plain": [
       "           company        date  quarter country   ROA     ROE debt_to_equity  \\\n",
       "0  Banco Santander  2024-09-30  2024-Q3   Spain   NaN     NaN          16,15   \n",
       "1  Banco Santander  2024-06-30  2024-Q2   Spain  0,63   0,109          16,23   \n",
       "2  Banco Santander  2024-03-31  2024-Q1   Spain   0,6  0,1043          16,14   \n",
       "3  Banco Santander  2023-12-31  2023-Q4   Spain  0,59  0,1035          16,24   \n",
       "4  Banco Santander  2023-09-30  2023-Q3   Spain  0,55  0,0968          16,66   \n",
       "\n",
       "  current_ratio net_margin revenue_growth cash_ratio inflation_YoY  \\\n",
       "0          0,33        NaN         6,2414        NaN        0,0217   \n",
       "1          0,23     0,0906        -0,8712       0,23        0,0346   \n",
       "2          0,24      0,087        -0,6185       0,24        0,0314   \n",
       "3          0,35     0,0886        22,1927       0,34        0,0327   \n",
       "4          0,31     0,1044         0,0201       0,31        0,0282   \n",
       "\n",
       "  gdp_growth_rate interest_rate  \n",
       "0          0,0080        0,0365  \n",
       "1          0,0080        0,0425  \n",
       "2          0,0100        0,0450  \n",
       "3          0,0070        0,0450  \n",
       "4          0,0070        0,0450  "
      ]
     },
     "execution_count": 3,
     "metadata": {},
     "output_type": "execute_result"
    }
   ],
   "source": [
    "dataset1=pd.read_csv(\"../dataset_unified.csv\", sep=\";\")\n",
    "dataset1.head()"
   ]
  },
  {
   "cell_type": "code",
   "execution_count": 4,
   "id": "c36b9d57",
   "metadata": {},
   "outputs": [
    {
     "name": "stdout",
     "output_type": "stream",
     "text": [
      "ROA                float64\n",
      "ROE                float64\n",
      "net_margin         float64\n",
      "current_ratio      float64\n",
      "cash_ratio         float64\n",
      "debt_to_equity     float64\n",
      "revenue_growth     float64\n",
      "inflation_YoY      float64\n",
      "gdp_growth_rate    float64\n",
      "interest_rate      float64\n",
      "dtype: object\n"
     ]
    }
   ],
   "source": [
    "indicators_to_clean = [\n",
    "    'ROA', 'ROE', 'net_margin', 'current_ratio',\n",
    "    'cash_ratio', 'debt_to_equity', 'revenue_growth',\n",
    "    'inflation_YoY', 'gdp_growth_rate', 'interest_rate'\n",
    "]\n",
    "\n",
    "# STEP 1: Clean all comma-based numbers → dots, then convert to numeric\n",
    "for col in indicators_to_clean:\n",
    "    dataset1[col] = (\n",
    "        dataset1[col]\n",
    "        .astype(str)\n",
    "        .str.replace(',', '.', regex=False)     # Convert commas to dots\n",
    "        .replace('nan', np.nan)                 # Replace string 'nan' with real NaN\n",
    "    )\n",
    "    dataset1[col] = pd.to_numeric(dataset1[col], errors='coerce')  # Convert to float\n",
    "\n",
    "print(dataset1[indicators_to_clean].dtypes)"
   ]
  },
  {
   "cell_type": "code",
   "execution_count": 5,
   "id": "ab0f672e",
   "metadata": {},
   "outputs": [],
   "source": [
    "\n",
    "def compute_local_percentile(df, column):\n",
    "    return df.groupby('company')[column].rank(pct=True)\n",
    "\n",
    "dataset1['ROA_pct'] = compute_local_percentile(dataset1, 'ROA')\n",
    "dataset1['ROE_pct'] = compute_local_percentile(dataset1, 'ROE')\n",
    "dataset1['net_margin_pct'] = compute_local_percentile(dataset1, 'net_margin')\n",
    "dataset1['current_ratio_pct'] = compute_local_percentile(dataset1, 'current_ratio')\n",
    "dataset1['cash_ratio_pct'] = compute_local_percentile(dataset1, 'cash_ratio')\n",
    "dataset1['debt_to_equity_pct'] = compute_local_percentile(dataset1, 'debt_to_equity')\n"
   ]
  },
  {
   "cell_type": "code",
   "execution_count": 6,
   "id": "8ae7ddd6",
   "metadata": {},
   "outputs": [],
   "source": [
    "# profitability\n",
    "dataset1['score_profitability_local'] = dataset1[['ROA_pct', 'ROE_pct', 'net_margin_pct']].mean(axis=1)\n",
    "\n",
    "# liquidity\n",
    "dataset1['score_liquidity_local'] = dataset1[['current_ratio_pct', 'cash_ratio_pct']].mean(axis=1)\n",
    "\n",
    "# Solvency\n",
    "dataset1['score_solvency_local'] = 1 - dataset1['debt_to_equity_pct']\n",
    "\n",
    "# Leverage Adjusted profitability\n",
    "dataset1['inv_debt_pct'] = 1 - dataset1['debt_to_equity_pct']\n",
    "dataset1['score_leverage_adjusted_local'] = dataset1[['ROE_pct', 'inv_debt_pct']].mean(axis=1)\n"
   ]
  },
  {
   "cell_type": "code",
   "execution_count": 7,
   "id": "91e41f10",
   "metadata": {},
   "outputs": [
    {
     "name": "stdout",
     "output_type": "stream",
     "text": [
      "           company  quarter  score_profitability_local  score_liquidity_local  \\\n",
      "0  Banco Santander  2024-Q3                        NaN               0.255319   \n",
      "1  Banco Santander  2024-Q2                   0.764493               0.064524   \n",
      "2  Banco Santander  2024-Q1                   0.717391               0.129047   \n",
      "3  Banco Santander  2023-Q4                   0.717391               0.415241   \n",
      "4  Banco Santander  2023-Q3                   0.760870               0.236702   \n",
      "\n",
      "   score_solvency_local  score_leverage_adjusted_local  \n",
      "0              0.170213                       0.170213  \n",
      "1              0.148936                       0.574468  \n",
      "2              0.191489                       0.584875  \n",
      "3              0.127660                       0.542091  \n",
      "4              0.063830                       0.488437  \n"
     ]
    }
   ],
   "source": [
    "cols = ['company', 'quarter', 'score_profitability_local', 'score_liquidity_local', 'score_solvency_local', 'score_leverage_adjusted_local']\n",
    "print(dataset1[cols].head())\n"
   ]
  },
  {
   "cell_type": "code",
   "execution_count": 8,
   "id": "7ffdc54c",
   "metadata": {},
   "outputs": [],
   "source": [
    "def compute_global_percentile(df, column):\n",
    "    return df.groupby('quarter')[column].rank(pct=True)\n",
    "\n",
    "\n",
    "# Appliquer le percentile global\n",
    "dataset1['ROA_pct_global'] = compute_global_percentile(dataset1, 'ROA')\n",
    "dataset1['ROE_pct_global'] = compute_global_percentile(dataset1, 'ROE')\n",
    "dataset1['net_margin_pct_global'] = compute_global_percentile(dataset1, 'net_margin')\n",
    "dataset1['current_ratio_pct_global'] = compute_global_percentile(dataset1, 'current_ratio')\n",
    "dataset1['cash_ratio_pct_global'] = compute_global_percentile(dataset1, 'cash_ratio')\n",
    "dataset1['debt_to_equity_pct_global'] = compute_global_percentile(dataset1, 'debt_to_equity')\n",
    "\n",
    "dataset1['debt_to_equity_pct_global'] = 1- dataset1['debt_to_equity_pct_global']  # Inverser pour la solvabilité"
   ]
  },
  {
   "cell_type": "code",
   "execution_count": 9,
   "id": "a3b2229a",
   "metadata": {},
   "outputs": [],
   "source": [
    "# Score global\n",
    "dataset1['score_profitability_global']= dataset1[['ROA_pct_global','ROE_pct_global','net_margin_pct_global']].mean(axis=1)\n",
    "dataset1['score_liquidity_global'] = dataset1[['current_ratio_pct_global','cash_ratio_pct_global']].mean(axis=1)\n",
    "dataset1['score_solvency_global'] = dataset1['debt_to_equity_pct_global']\n",
    "dataset1['score_leverage_adjusted_global'] = dataset1[['ROE_pct_global', 'debt_to_equity_pct_global']].mean(axis=1)\n",
    "\n"
   ]
  },
  {
   "cell_type": "code",
   "execution_count": 10,
   "id": "ffec5984",
   "metadata": {},
   "outputs": [
    {
     "name": "stdout",
     "output_type": "stream",
     "text": [
      "['company', 'date', 'quarter', 'country', 'ROA', 'ROE', 'debt_to_equity', 'current_ratio', 'net_margin', 'revenue_growth', 'cash_ratio', 'inflation_YoY', 'gdp_growth_rate', 'interest_rate', 'ROA_pct', 'ROE_pct', 'net_margin_pct', 'current_ratio_pct', 'cash_ratio_pct', 'debt_to_equity_pct', 'score_profitability_local', 'score_liquidity_local', 'score_solvency_local', 'inv_debt_pct', 'score_leverage_adjusted_local', 'ROA_pct_global', 'ROE_pct_global', 'net_margin_pct_global', 'current_ratio_pct_global', 'cash_ratio_pct_global', 'debt_to_equity_pct_global', 'score_profitability_global', 'score_liquidity_global', 'score_solvency_global', 'score_leverage_adjusted_global']\n"
     ]
    }
   ],
   "source": [
    "print(dataset1.columns.tolist())\n"
   ]
  },
  {
   "cell_type": "code",
   "execution_count": 11,
   "id": "baf9338b",
   "metadata": {},
   "outputs": [
    {
     "data": {
      "text/html": [
       "<div>\n",
       "<style scoped>\n",
       "    .dataframe tbody tr th:only-of-type {\n",
       "        vertical-align: middle;\n",
       "    }\n",
       "\n",
       "    .dataframe tbody tr th {\n",
       "        vertical-align: top;\n",
       "    }\n",
       "\n",
       "    .dataframe thead th {\n",
       "        text-align: right;\n",
       "    }\n",
       "</style>\n",
       "<table border=\"1\" class=\"dataframe\">\n",
       "  <thead>\n",
       "    <tr style=\"text-align: right;\">\n",
       "      <th></th>\n",
       "      <th>company</th>\n",
       "      <th>score_profitability_global</th>\n",
       "    </tr>\n",
       "  </thead>\n",
       "  <tbody>\n",
       "    <tr>\n",
       "      <th>10</th>\n",
       "      <td>Banco Santander</td>\n",
       "      <td>0.533333</td>\n",
       "    </tr>\n",
       "    <tr>\n",
       "      <th>56</th>\n",
       "      <td>BNP Paribas</td>\n",
       "      <td>0.333333</td>\n",
       "    </tr>\n",
       "    <tr>\n",
       "      <th>102</th>\n",
       "      <td>Crédit Agricole</td>\n",
       "      <td>0.666667</td>\n",
       "    </tr>\n",
       "    <tr>\n",
       "      <th>131</th>\n",
       "      <td>HSBC</td>\n",
       "      <td>0.533333</td>\n",
       "    </tr>\n",
       "    <tr>\n",
       "      <th>173</th>\n",
       "      <td>JP Morgan Chase</td>\n",
       "      <td>0.933333</td>\n",
       "    </tr>\n",
       "  </tbody>\n",
       "</table>\n",
       "</div>"
      ],
      "text/plain": [
       "             company  score_profitability_global\n",
       "10   Banco Santander                    0.533333\n",
       "56       BNP Paribas                    0.333333\n",
       "102  Crédit Agricole                    0.666667\n",
       "131             HSBC                    0.533333\n",
       "173  JP Morgan Chase                    0.933333"
      ]
     },
     "execution_count": 11,
     "metadata": {},
     "output_type": "execute_result"
    }
   ],
   "source": [
    "# Check global scores for one quarter\n",
    "dataset1[dataset1['quarter'] == '2022-Q1'][['company', 'score_profitability_global']]\n"
   ]
  },
  {
   "cell_type": "code",
   "execution_count": 12,
   "id": "0881c8cf",
   "metadata": {},
   "outputs": [
    {
     "ename": "KeyError",
     "evalue": "\"['score_profitabilty_global'] not in index\"",
     "output_type": "error",
     "traceback": [
      "\u001b[1;31m---------------------------------------------------------------------------\u001b[0m",
      "\u001b[1;31mKeyError\u001b[0m                                  Traceback (most recent call last)",
      "Cell \u001b[1;32mIn[12], line 2\u001b[0m\n\u001b[0;32m      1\u001b[0m cols\u001b[38;5;241m=\u001b[39m[\u001b[38;5;124m'\u001b[39m\u001b[38;5;124mcompany\u001b[39m\u001b[38;5;124m'\u001b[39m, \u001b[38;5;124m'\u001b[39m\u001b[38;5;124mquarter\u001b[39m\u001b[38;5;124m'\u001b[39m, \u001b[38;5;124m'\u001b[39m\u001b[38;5;124mscore_profitabilty_global\u001b[39m\u001b[38;5;124m'\u001b[39m, \u001b[38;5;124m'\u001b[39m\u001b[38;5;124mscore_liquidity_global\u001b[39m\u001b[38;5;124m'\u001b[39m, \u001b[38;5;124m'\u001b[39m\u001b[38;5;124mscore_solvency_global\u001b[39m\u001b[38;5;124m'\u001b[39m, \u001b[38;5;124m'\u001b[39m\u001b[38;5;124mscore_leverage_adjusted_global\u001b[39m\u001b[38;5;124m'\u001b[39m]\n\u001b[1;32m----> 2\u001b[0m \u001b[38;5;28mprint\u001b[39m(dataset1[cols]\u001b[38;5;241m.\u001b[39mhead(\u001b[38;5;241m10\u001b[39m))\n",
      "File \u001b[1;32mc:\\Users\\lecoz\\anaconda3\\Lib\\site-packages\\pandas\\core\\frame.py:3813\u001b[0m, in \u001b[0;36mDataFrame.__getitem__\u001b[1;34m(self, key)\u001b[0m\n\u001b[0;32m   3811\u001b[0m     \u001b[38;5;28;01mif\u001b[39;00m is_iterator(key):\n\u001b[0;32m   3812\u001b[0m         key \u001b[38;5;241m=\u001b[39m \u001b[38;5;28mlist\u001b[39m(key)\n\u001b[1;32m-> 3813\u001b[0m     indexer \u001b[38;5;241m=\u001b[39m \u001b[38;5;28mself\u001b[39m\u001b[38;5;241m.\u001b[39mcolumns\u001b[38;5;241m.\u001b[39m_get_indexer_strict(key, \u001b[38;5;124m\"\u001b[39m\u001b[38;5;124mcolumns\u001b[39m\u001b[38;5;124m\"\u001b[39m)[\u001b[38;5;241m1\u001b[39m]\n\u001b[0;32m   3815\u001b[0m \u001b[38;5;66;03m# take() does not accept boolean indexers\u001b[39;00m\n\u001b[0;32m   3816\u001b[0m \u001b[38;5;28;01mif\u001b[39;00m \u001b[38;5;28mgetattr\u001b[39m(indexer, \u001b[38;5;124m\"\u001b[39m\u001b[38;5;124mdtype\u001b[39m\u001b[38;5;124m\"\u001b[39m, \u001b[38;5;28;01mNone\u001b[39;00m) \u001b[38;5;241m==\u001b[39m \u001b[38;5;28mbool\u001b[39m:\n",
      "File \u001b[1;32mc:\\Users\\lecoz\\anaconda3\\Lib\\site-packages\\pandas\\core\\indexes\\base.py:6070\u001b[0m, in \u001b[0;36mIndex._get_indexer_strict\u001b[1;34m(self, key, axis_name)\u001b[0m\n\u001b[0;32m   6067\u001b[0m \u001b[38;5;28;01melse\u001b[39;00m:\n\u001b[0;32m   6068\u001b[0m     keyarr, indexer, new_indexer \u001b[38;5;241m=\u001b[39m \u001b[38;5;28mself\u001b[39m\u001b[38;5;241m.\u001b[39m_reindex_non_unique(keyarr)\n\u001b[1;32m-> 6070\u001b[0m \u001b[38;5;28mself\u001b[39m\u001b[38;5;241m.\u001b[39m_raise_if_missing(keyarr, indexer, axis_name)\n\u001b[0;32m   6072\u001b[0m keyarr \u001b[38;5;241m=\u001b[39m \u001b[38;5;28mself\u001b[39m\u001b[38;5;241m.\u001b[39mtake(indexer)\n\u001b[0;32m   6073\u001b[0m \u001b[38;5;28;01mif\u001b[39;00m \u001b[38;5;28misinstance\u001b[39m(key, Index):\n\u001b[0;32m   6074\u001b[0m     \u001b[38;5;66;03m# GH 42790 - Preserve name from an Index\u001b[39;00m\n",
      "File \u001b[1;32mc:\\Users\\lecoz\\anaconda3\\Lib\\site-packages\\pandas\\core\\indexes\\base.py:6133\u001b[0m, in \u001b[0;36mIndex._raise_if_missing\u001b[1;34m(self, key, indexer, axis_name)\u001b[0m\n\u001b[0;32m   6130\u001b[0m     \u001b[38;5;28;01mraise\u001b[39;00m \u001b[38;5;167;01mKeyError\u001b[39;00m(\u001b[38;5;124mf\u001b[39m\u001b[38;5;124m\"\u001b[39m\u001b[38;5;124mNone of [\u001b[39m\u001b[38;5;132;01m{\u001b[39;00mkey\u001b[38;5;132;01m}\u001b[39;00m\u001b[38;5;124m] are in the [\u001b[39m\u001b[38;5;132;01m{\u001b[39;00maxis_name\u001b[38;5;132;01m}\u001b[39;00m\u001b[38;5;124m]\u001b[39m\u001b[38;5;124m\"\u001b[39m)\n\u001b[0;32m   6132\u001b[0m not_found \u001b[38;5;241m=\u001b[39m \u001b[38;5;28mlist\u001b[39m(ensure_index(key)[missing_mask\u001b[38;5;241m.\u001b[39mnonzero()[\u001b[38;5;241m0\u001b[39m]]\u001b[38;5;241m.\u001b[39munique())\n\u001b[1;32m-> 6133\u001b[0m \u001b[38;5;28;01mraise\u001b[39;00m \u001b[38;5;167;01mKeyError\u001b[39;00m(\u001b[38;5;124mf\u001b[39m\u001b[38;5;124m\"\u001b[39m\u001b[38;5;132;01m{\u001b[39;00mnot_found\u001b[38;5;132;01m}\u001b[39;00m\u001b[38;5;124m not in index\u001b[39m\u001b[38;5;124m\"\u001b[39m)\n",
      "\u001b[1;31mKeyError\u001b[0m: \"['score_profitabilty_global'] not in index\""
     ]
    }
   ],
   "source": [
    "cols=['company', 'quarter', 'score_profitabilty_global', 'score_liquidity_global', 'score_solvency_global', 'score_leverage_adjusted_global']\n",
    "print(dataset1[cols].head(10))"
   ]
  },
  {
   "cell_type": "code",
   "execution_count": null,
   "id": "9b426d31",
   "metadata": {},
   "outputs": [],
   "source": [
    "# Remplace 'dataset1' par le nom de ta DataFrame si différent\n",
    "dataset1.to_csv(\"dataset1_complet.csv\", index=False)\n"
   ]
  },
  {
   "cell_type": "code",
   "execution_count": null,
   "id": "bdceb8a0",
   "metadata": {},
   "outputs": [
    {
     "data": {
      "text/plain": [
       "company                           JP Morgan Chase\n",
       "date                                   2016-06-30\n",
       "quarter                                   2016-Q2\n",
       "country                                       USA\n",
       "ROA                                          0.92\n",
       "ROE                                        0.0892\n",
       "debt_to_equity                               8.77\n",
       "current_ratio                                1.03\n",
       "net_margin                                 0.2183\n",
       "revenue_growth                              0.011\n",
       "cash_ratio                                   0.53\n",
       "inflation_YoY                              0.0105\n",
       "gdp_growth_rate                              0.01\n",
       "interest_rate                              0.0037\n",
       "ROA_pct                                  0.413462\n",
       "ROE_pct                                  0.230769\n",
       "net_margin_pct                           0.596154\n",
       "current_ratio_pct                        0.942308\n",
       "cash_ratio_pct                           0.740385\n",
       "debt_to_equity_pct                       0.057692\n",
       "score_profitability_local                0.413462\n",
       "score_liquidity_local                    0.841346\n",
       "score_solvency_local                     0.942308\n",
       "inv_debt_pct                             0.942308\n",
       "score_leverage_adjusted_local            0.586538\n",
       "ROA_pct_global                                1.0\n",
       "ROE_pct_global                                1.0\n",
       "net_margin_pct_global                         1.0\n",
       "current_ratio_pct_global                      0.6\n",
       "cash_ratio_pct_global                         1.0\n",
       "debt_to_equity_pct_global                     0.8\n",
       "score_profitabilty_global                     1.0\n",
       "score_liquidity_global                        0.8\n",
       "score_solvency_global                         0.8\n",
       "score_leverage_adjusted_global                0.9\n",
       "score_profitability_global                    1.0\n",
       "Name: 196, dtype: object"
      ]
     },
     "execution_count": 39,
     "metadata": {},
     "output_type": "execute_result"
    }
   ],
   "source": [
    "dataset1.loc[dataset1['score_solvency_global'].idxmax()]\n"
   ]
  },
  {
   "cell_type": "code",
   "execution_count": null,
   "id": "dd438344",
   "metadata": {},
   "outputs": [
    {
     "ename": "NameError",
     "evalue": "name 'dataset1' is not defined",
     "output_type": "error",
     "traceback": [
      "\u001b[1;31m---------------------------------------------------------------------------\u001b[0m",
      "\u001b[1;31mNameError\u001b[0m                                 Traceback (most recent call last)",
      "Cell \u001b[1;32mIn[1], line 1\u001b[0m\n\u001b[1;32m----> 1\u001b[0m \u001b[38;5;28mprint\u001b[39m(dataset1\u001b[38;5;241m.\u001b[39mcolumns\u001b[38;5;241m.\u001b[39mtolist())\n",
      "\u001b[1;31mNameError\u001b[0m: name 'dataset1' is not defined"
     ]
    }
   ],
   "source": [
    "print(dataset1.columns.tolist())\n"
   ]
  },
  {
   "cell_type": "code",
   "execution_count": null,
   "id": "679eea52",
   "metadata": {},
   "outputs": [
    {
     "ename": "KeyError",
     "evalue": "'score_profitability'",
     "output_type": "error",
     "traceback": [
      "\u001b[1;31m---------------------------------------------------------------------------\u001b[0m",
      "\u001b[1;31mKeyError\u001b[0m                                  Traceback (most recent call last)",
      "File \u001b[1;32mc:\\Users\\lecoz\\anaconda3\\Lib\\site-packages\\pandas\\core\\indexes\\base.py:3802\u001b[0m, in \u001b[0;36mIndex.get_loc\u001b[1;34m(self, key, method, tolerance)\u001b[0m\n\u001b[0;32m   3801\u001b[0m \u001b[38;5;28;01mtry\u001b[39;00m:\n\u001b[1;32m-> 3802\u001b[0m     \u001b[38;5;28;01mreturn\u001b[39;00m \u001b[38;5;28mself\u001b[39m\u001b[38;5;241m.\u001b[39m_engine\u001b[38;5;241m.\u001b[39mget_loc(casted_key)\n\u001b[0;32m   3803\u001b[0m \u001b[38;5;28;01mexcept\u001b[39;00m \u001b[38;5;167;01mKeyError\u001b[39;00m \u001b[38;5;28;01mas\u001b[39;00m err:\n",
      "File \u001b[1;32mc:\\Users\\lecoz\\anaconda3\\Lib\\site-packages\\pandas\\_libs\\index.pyx:138\u001b[0m, in \u001b[0;36mpandas._libs.index.IndexEngine.get_loc\u001b[1;34m()\u001b[0m\n",
      "File \u001b[1;32mc:\\Users\\lecoz\\anaconda3\\Lib\\site-packages\\pandas\\_libs\\index.pyx:165\u001b[0m, in \u001b[0;36mpandas._libs.index.IndexEngine.get_loc\u001b[1;34m()\u001b[0m\n",
      "File \u001b[1;32mpandas\\_libs\\hashtable_class_helper.pxi:5745\u001b[0m, in \u001b[0;36mpandas._libs.hashtable.PyObjectHashTable.get_item\u001b[1;34m()\u001b[0m\n",
      "File \u001b[1;32mpandas\\_libs\\hashtable_class_helper.pxi:5753\u001b[0m, in \u001b[0;36mpandas._libs.hashtable.PyObjectHashTable.get_item\u001b[1;34m()\u001b[0m\n",
      "\u001b[1;31mKeyError\u001b[0m: 'score_profitability'",
      "\nThe above exception was the direct cause of the following exception:\n",
      "\u001b[1;31mKeyError\u001b[0m                                  Traceback (most recent call last)",
      "Cell \u001b[1;32mIn[42], line 94\u001b[0m\n\u001b[0;32m     91\u001b[0m         \u001b[38;5;28;01mreturn\u001b[39;00m \u001b[38;5;124m\"\u001b[39m\u001b[38;5;124mStable\u001b[39m\u001b[38;5;124m\"\u001b[39m\n\u001b[0;32m     92\u001b[0m     \u001b[38;5;28;01mreturn\u001b[39;00m \u001b[38;5;124m\"\u001b[39m\u001b[38;5;124mWatch\u001b[39m\u001b[38;5;124m\"\u001b[39m\n\u001b[1;32m---> 94\u001b[0m dataset1[\u001b[38;5;124m\"\u001b[39m\u001b[38;5;124mOverall Status\u001b[39m\u001b[38;5;124m\"\u001b[39m] \u001b[38;5;241m=\u001b[39m dataset1\u001b[38;5;241m.\u001b[39mapply(global_status, axis\u001b[38;5;241m=\u001b[39m\u001b[38;5;241m1\u001b[39m)\n\u001b[0;32m     96\u001b[0m \u001b[38;5;66;03m# Widget pour sélection de société\u001b[39;00m\n\u001b[0;32m     97\u001b[0m dropdown \u001b[38;5;241m=\u001b[39m widgets\u001b[38;5;241m.\u001b[39mDropdown(\n\u001b[0;32m     98\u001b[0m     options\u001b[38;5;241m=\u001b[39m\u001b[38;5;28msorted\u001b[39m(dataset1[\u001b[38;5;124m'\u001b[39m\u001b[38;5;124mcompany\u001b[39m\u001b[38;5;124m'\u001b[39m]\u001b[38;5;241m.\u001b[39mdropna()\u001b[38;5;241m.\u001b[39munique()),\n\u001b[0;32m     99\u001b[0m     description\u001b[38;5;241m=\u001b[39m\u001b[38;5;124m'\u001b[39m\u001b[38;5;124mCompany:\u001b[39m\u001b[38;5;124m'\u001b[39m,\n\u001b[0;32m    100\u001b[0m     value\u001b[38;5;241m=\u001b[39mdataset1[\u001b[38;5;124m'\u001b[39m\u001b[38;5;124mcompany\u001b[39m\u001b[38;5;124m'\u001b[39m]\u001b[38;5;241m.\u001b[39mdropna()\u001b[38;5;241m.\u001b[39munique()[\u001b[38;5;241m0\u001b[39m]\n\u001b[0;32m    101\u001b[0m )\n",
      "File \u001b[1;32mc:\\Users\\lecoz\\anaconda3\\Lib\\site-packages\\pandas\\core\\frame.py:9568\u001b[0m, in \u001b[0;36mDataFrame.apply\u001b[1;34m(self, func, axis, raw, result_type, args, **kwargs)\u001b[0m\n\u001b[0;32m   9557\u001b[0m \u001b[38;5;28;01mfrom\u001b[39;00m \u001b[38;5;21;01mpandas\u001b[39;00m\u001b[38;5;21;01m.\u001b[39;00m\u001b[38;5;21;01mcore\u001b[39;00m\u001b[38;5;21;01m.\u001b[39;00m\u001b[38;5;21;01mapply\u001b[39;00m \u001b[38;5;28;01mimport\u001b[39;00m frame_apply\n\u001b[0;32m   9559\u001b[0m op \u001b[38;5;241m=\u001b[39m frame_apply(\n\u001b[0;32m   9560\u001b[0m     \u001b[38;5;28mself\u001b[39m,\n\u001b[0;32m   9561\u001b[0m     func\u001b[38;5;241m=\u001b[39mfunc,\n\u001b[1;32m   (...)\u001b[0m\n\u001b[0;32m   9566\u001b[0m     kwargs\u001b[38;5;241m=\u001b[39mkwargs,\n\u001b[0;32m   9567\u001b[0m )\n\u001b[1;32m-> 9568\u001b[0m \u001b[38;5;28;01mreturn\u001b[39;00m op\u001b[38;5;241m.\u001b[39mapply()\u001b[38;5;241m.\u001b[39m__finalize__(\u001b[38;5;28mself\u001b[39m, method\u001b[38;5;241m=\u001b[39m\u001b[38;5;124m\"\u001b[39m\u001b[38;5;124mapply\u001b[39m\u001b[38;5;124m\"\u001b[39m)\n",
      "File \u001b[1;32mc:\\Users\\lecoz\\anaconda3\\Lib\\site-packages\\pandas\\core\\apply.py:764\u001b[0m, in \u001b[0;36mFrameApply.apply\u001b[1;34m(self)\u001b[0m\n\u001b[0;32m    761\u001b[0m \u001b[38;5;28;01melif\u001b[39;00m \u001b[38;5;28mself\u001b[39m\u001b[38;5;241m.\u001b[39mraw:\n\u001b[0;32m    762\u001b[0m     \u001b[38;5;28;01mreturn\u001b[39;00m \u001b[38;5;28mself\u001b[39m\u001b[38;5;241m.\u001b[39mapply_raw()\n\u001b[1;32m--> 764\u001b[0m \u001b[38;5;28;01mreturn\u001b[39;00m \u001b[38;5;28mself\u001b[39m\u001b[38;5;241m.\u001b[39mapply_standard()\n",
      "File \u001b[1;32mc:\\Users\\lecoz\\anaconda3\\Lib\\site-packages\\pandas\\core\\apply.py:891\u001b[0m, in \u001b[0;36mFrameApply.apply_standard\u001b[1;34m(self)\u001b[0m\n\u001b[0;32m    890\u001b[0m \u001b[38;5;28;01mdef\u001b[39;00m \u001b[38;5;21mapply_standard\u001b[39m(\u001b[38;5;28mself\u001b[39m):\n\u001b[1;32m--> 891\u001b[0m     results, res_index \u001b[38;5;241m=\u001b[39m \u001b[38;5;28mself\u001b[39m\u001b[38;5;241m.\u001b[39mapply_series_generator()\n\u001b[0;32m    893\u001b[0m     \u001b[38;5;66;03m# wrap results\u001b[39;00m\n\u001b[0;32m    894\u001b[0m     \u001b[38;5;28;01mreturn\u001b[39;00m \u001b[38;5;28mself\u001b[39m\u001b[38;5;241m.\u001b[39mwrap_results(results, res_index)\n",
      "File \u001b[1;32mc:\\Users\\lecoz\\anaconda3\\Lib\\site-packages\\pandas\\core\\apply.py:907\u001b[0m, in \u001b[0;36mFrameApply.apply_series_generator\u001b[1;34m(self)\u001b[0m\n\u001b[0;32m    904\u001b[0m \u001b[38;5;28;01mwith\u001b[39;00m option_context(\u001b[38;5;124m\"\u001b[39m\u001b[38;5;124mmode.chained_assignment\u001b[39m\u001b[38;5;124m\"\u001b[39m, \u001b[38;5;28;01mNone\u001b[39;00m):\n\u001b[0;32m    905\u001b[0m     \u001b[38;5;28;01mfor\u001b[39;00m i, v \u001b[38;5;129;01min\u001b[39;00m \u001b[38;5;28menumerate\u001b[39m(series_gen):\n\u001b[0;32m    906\u001b[0m         \u001b[38;5;66;03m# ignore SettingWithCopy here in case the user mutates\u001b[39;00m\n\u001b[1;32m--> 907\u001b[0m         results[i] \u001b[38;5;241m=\u001b[39m \u001b[38;5;28mself\u001b[39m\u001b[38;5;241m.\u001b[39mf(v)\n\u001b[0;32m    908\u001b[0m         \u001b[38;5;28;01mif\u001b[39;00m \u001b[38;5;28misinstance\u001b[39m(results[i], ABCSeries):\n\u001b[0;32m    909\u001b[0m             \u001b[38;5;66;03m# If we have a view on v, we need to make a copy because\u001b[39;00m\n\u001b[0;32m    910\u001b[0m             \u001b[38;5;66;03m#  series_generator will swap out the underlying data\u001b[39;00m\n\u001b[0;32m    911\u001b[0m             results[i] \u001b[38;5;241m=\u001b[39m results[i]\u001b[38;5;241m.\u001b[39mcopy(deep\u001b[38;5;241m=\u001b[39m\u001b[38;5;28;01mFalse\u001b[39;00m)\n",
      "Cell \u001b[1;32mIn[42], line 67\u001b[0m, in \u001b[0;36mglobal_status\u001b[1;34m(row)\u001b[0m\n\u001b[0;32m     65\u001b[0m \u001b[38;5;28;01mdef\u001b[39;00m \u001b[38;5;21mglobal_status\u001b[39m(row):\n\u001b[0;32m     66\u001b[0m     indicators \u001b[38;5;241m=\u001b[39m [\u001b[38;5;124m'\u001b[39m\u001b[38;5;124mscore_profitability\u001b[39m\u001b[38;5;124m'\u001b[39m, \u001b[38;5;124m'\u001b[39m\u001b[38;5;124mscore_liquidity\u001b[39m\u001b[38;5;124m'\u001b[39m, \u001b[38;5;124m'\u001b[39m\u001b[38;5;124mscore_solvency\u001b[39m\u001b[38;5;124m'\u001b[39m, \u001b[38;5;124m'\u001b[39m\u001b[38;5;124mscore_leverage_adjusted\u001b[39m\u001b[38;5;124m'\u001b[39m]\n\u001b[1;32m---> 67\u001b[0m     red \u001b[38;5;241m=\u001b[39m \u001b[38;5;28msum\u001b[39m(row[col] \u001b[38;5;241m<\u001b[39m thresholds[\u001b[38;5;124m'\u001b[39m\u001b[38;5;124mlow\u001b[39m\u001b[38;5;124m'\u001b[39m] \u001b[38;5;28;01mfor\u001b[39;00m col \u001b[38;5;129;01min\u001b[39;00m indicators \u001b[38;5;28;01mif\u001b[39;00m pd\u001b[38;5;241m.\u001b[39mnotna(row[col]))\n\u001b[0;32m     68\u001b[0m     green \u001b[38;5;241m=\u001b[39m \u001b[38;5;28msum\u001b[39m(row[col] \u001b[38;5;241m>\u001b[39m thresholds[\u001b[38;5;124m'\u001b[39m\u001b[38;5;124mhigh\u001b[39m\u001b[38;5;124m'\u001b[39m] \u001b[38;5;28;01mfor\u001b[39;00m col \u001b[38;5;129;01min\u001b[39;00m indicators \u001b[38;5;28;01mif\u001b[39;00m pd\u001b[38;5;241m.\u001b[39mnotna(row[col]))\n\u001b[0;32m     69\u001b[0m     leverage \u001b[38;5;241m=\u001b[39m row[\u001b[38;5;124m'\u001b[39m\u001b[38;5;124mscore_leverage_adjusted\u001b[39m\u001b[38;5;124m'\u001b[39m]\n",
      "Cell \u001b[1;32mIn[42], line 67\u001b[0m, in \u001b[0;36m<genexpr>\u001b[1;34m(.0)\u001b[0m\n\u001b[0;32m     65\u001b[0m \u001b[38;5;28;01mdef\u001b[39;00m \u001b[38;5;21mglobal_status\u001b[39m(row):\n\u001b[0;32m     66\u001b[0m     indicators \u001b[38;5;241m=\u001b[39m [\u001b[38;5;124m'\u001b[39m\u001b[38;5;124mscore_profitability\u001b[39m\u001b[38;5;124m'\u001b[39m, \u001b[38;5;124m'\u001b[39m\u001b[38;5;124mscore_liquidity\u001b[39m\u001b[38;5;124m'\u001b[39m, \u001b[38;5;124m'\u001b[39m\u001b[38;5;124mscore_solvency\u001b[39m\u001b[38;5;124m'\u001b[39m, \u001b[38;5;124m'\u001b[39m\u001b[38;5;124mscore_leverage_adjusted\u001b[39m\u001b[38;5;124m'\u001b[39m]\n\u001b[1;32m---> 67\u001b[0m     red \u001b[38;5;241m=\u001b[39m \u001b[38;5;28msum\u001b[39m(row[col] \u001b[38;5;241m<\u001b[39m thresholds[\u001b[38;5;124m'\u001b[39m\u001b[38;5;124mlow\u001b[39m\u001b[38;5;124m'\u001b[39m] \u001b[38;5;28;01mfor\u001b[39;00m col \u001b[38;5;129;01min\u001b[39;00m indicators \u001b[38;5;28;01mif\u001b[39;00m pd\u001b[38;5;241m.\u001b[39mnotna(row[col]))\n\u001b[0;32m     68\u001b[0m     green \u001b[38;5;241m=\u001b[39m \u001b[38;5;28msum\u001b[39m(row[col] \u001b[38;5;241m>\u001b[39m thresholds[\u001b[38;5;124m'\u001b[39m\u001b[38;5;124mhigh\u001b[39m\u001b[38;5;124m'\u001b[39m] \u001b[38;5;28;01mfor\u001b[39;00m col \u001b[38;5;129;01min\u001b[39;00m indicators \u001b[38;5;28;01mif\u001b[39;00m pd\u001b[38;5;241m.\u001b[39mnotna(row[col]))\n\u001b[0;32m     69\u001b[0m     leverage \u001b[38;5;241m=\u001b[39m row[\u001b[38;5;124m'\u001b[39m\u001b[38;5;124mscore_leverage_adjusted\u001b[39m\u001b[38;5;124m'\u001b[39m]\n",
      "File \u001b[1;32mc:\\Users\\lecoz\\anaconda3\\Lib\\site-packages\\pandas\\core\\series.py:981\u001b[0m, in \u001b[0;36mSeries.__getitem__\u001b[1;34m(self, key)\u001b[0m\n\u001b[0;32m    978\u001b[0m     \u001b[38;5;28;01mreturn\u001b[39;00m \u001b[38;5;28mself\u001b[39m\u001b[38;5;241m.\u001b[39m_values[key]\n\u001b[0;32m    980\u001b[0m \u001b[38;5;28;01melif\u001b[39;00m key_is_scalar:\n\u001b[1;32m--> 981\u001b[0m     \u001b[38;5;28;01mreturn\u001b[39;00m \u001b[38;5;28mself\u001b[39m\u001b[38;5;241m.\u001b[39m_get_value(key)\n\u001b[0;32m    983\u001b[0m \u001b[38;5;28;01mif\u001b[39;00m is_hashable(key):\n\u001b[0;32m    984\u001b[0m     \u001b[38;5;66;03m# Otherwise index.get_value will raise InvalidIndexError\u001b[39;00m\n\u001b[0;32m    985\u001b[0m     \u001b[38;5;28;01mtry\u001b[39;00m:\n\u001b[0;32m    986\u001b[0m         \u001b[38;5;66;03m# For labels that don't resolve as scalars like tuples and frozensets\u001b[39;00m\n",
      "File \u001b[1;32mc:\\Users\\lecoz\\anaconda3\\Lib\\site-packages\\pandas\\core\\series.py:1089\u001b[0m, in \u001b[0;36mSeries._get_value\u001b[1;34m(self, label, takeable)\u001b[0m\n\u001b[0;32m   1086\u001b[0m     \u001b[38;5;28;01mreturn\u001b[39;00m \u001b[38;5;28mself\u001b[39m\u001b[38;5;241m.\u001b[39m_values[label]\n\u001b[0;32m   1088\u001b[0m \u001b[38;5;66;03m# Similar to Index.get_value, but we do not fall back to positional\u001b[39;00m\n\u001b[1;32m-> 1089\u001b[0m loc \u001b[38;5;241m=\u001b[39m \u001b[38;5;28mself\u001b[39m\u001b[38;5;241m.\u001b[39mindex\u001b[38;5;241m.\u001b[39mget_loc(label)\n\u001b[0;32m   1090\u001b[0m \u001b[38;5;28;01mreturn\u001b[39;00m \u001b[38;5;28mself\u001b[39m\u001b[38;5;241m.\u001b[39mindex\u001b[38;5;241m.\u001b[39m_get_values_for_loc(\u001b[38;5;28mself\u001b[39m, loc, label)\n",
      "File \u001b[1;32mc:\\Users\\lecoz\\anaconda3\\Lib\\site-packages\\pandas\\core\\indexes\\base.py:3804\u001b[0m, in \u001b[0;36mIndex.get_loc\u001b[1;34m(self, key, method, tolerance)\u001b[0m\n\u001b[0;32m   3802\u001b[0m     \u001b[38;5;28;01mreturn\u001b[39;00m \u001b[38;5;28mself\u001b[39m\u001b[38;5;241m.\u001b[39m_engine\u001b[38;5;241m.\u001b[39mget_loc(casted_key)\n\u001b[0;32m   3803\u001b[0m \u001b[38;5;28;01mexcept\u001b[39;00m \u001b[38;5;167;01mKeyError\u001b[39;00m \u001b[38;5;28;01mas\u001b[39;00m err:\n\u001b[1;32m-> 3804\u001b[0m     \u001b[38;5;28;01mraise\u001b[39;00m \u001b[38;5;167;01mKeyError\u001b[39;00m(key) \u001b[38;5;28;01mfrom\u001b[39;00m \u001b[38;5;21;01merr\u001b[39;00m\n\u001b[0;32m   3805\u001b[0m \u001b[38;5;28;01mexcept\u001b[39;00m \u001b[38;5;167;01mTypeError\u001b[39;00m:\n\u001b[0;32m   3806\u001b[0m     \u001b[38;5;66;03m# If we have a listlike key, _check_indexing_error will raise\u001b[39;00m\n\u001b[0;32m   3807\u001b[0m     \u001b[38;5;66;03m#  InvalidIndexError. Otherwise we fall through and re-raise\u001b[39;00m\n\u001b[0;32m   3808\u001b[0m     \u001b[38;5;66;03m#  the TypeError.\u001b[39;00m\n\u001b[0;32m   3809\u001b[0m     \u001b[38;5;28mself\u001b[39m\u001b[38;5;241m.\u001b[39m_check_indexing_error(key)\n",
      "\u001b[1;31mKeyError\u001b[0m: 'score_profitability'"
     ]
    }
   ],
   "source": [
    "import pandas as pd\n",
    "import ipywidgets as widgets\n",
    "from IPython.display import display, clear_output\n",
    "\n",
    "# Définir les seuils\n",
    "thresholds = {\n",
    "    'low': 0.1,\n",
    "    'high': 0.9\n",
    "}\n",
    "\n",
    "# Classer le percentile\n",
    "def flag_percentile(p):\n",
    "    if pd.isna(p): return 'Missing'\n",
    "    elif p <= thresholds['low']: return 'Bottom 10%'\n",
    "    elif p >= thresholds['high']: return 'Top 10%'\n",
    "    else: return 'Middle'\n",
    "\n",
    "# Appliquer flags\n",
    "for col in ['score_profitability', 'score_liquidity', 'score_solvency', 'score_leverage_adjusted']:\n",
    "    dataset1[f'{col}_global_flag'] = dataset1[f'{col}_global'].apply(flag_percentile)\n",
    "    dataset1[f'{col}_local_flag'] = dataset1[f'{col}_local'].apply(flag_percentile)\n",
    "\n",
    "# Revenue growth : alerte simple\n",
    "def revenue_alert(x):\n",
    "    if pd.isna(x): return \"Unknown\"\n",
    "    elif x < -0.1: return \"Rev ↓\"\n",
    "    elif x > 0.1: return \"Rev ↑\"\n",
    "    else: return \"Stable\"\n",
    "\n",
    "dataset1['revenue_alert'] = dataset1['revenue_growth'].apply(revenue_alert)\n",
    "\n",
    "# Résumé alerte\n",
    "def alert_summary(row):\n",
    "    reds, greens, stables = [], [], []\n",
    "    for col, name in [\n",
    "        ('score_profitability', 'Profitability'),\n",
    "        ('score_liquidity', 'Liquidity'),\n",
    "        ('score_solvency', 'Solvency'),\n",
    "        ('score_leverage_adjusted', 'Adj. Leverage')\n",
    "    ]:\n",
    "        val = row.get(col)\n",
    "        if pd.isna(val): continue\n",
    "        if val < thresholds['low']:\n",
    "            reds.append(name)\n",
    "        elif val > thresholds['high']:\n",
    "            greens.append(name)\n",
    "        else:\n",
    "            stables.append(name)\n",
    "    parts = []\n",
    "    if reds:\n",
    "        parts.append(\"Red (\" + \", \".join(reds) + \")\")\n",
    "    if greens:\n",
    "        parts.append(\"Green (\" + \", \".join(greens) + \")\")\n",
    "    if not reds and not greens and stables:\n",
    "        parts.append(\"Stable (\" + \", \".join(stables) + \")\")\n",
    "    if not parts:\n",
    "        parts.append(\"Missing\")\n",
    "    if row['revenue_alert'] in ['Rev ↓', 'Rev ↑']:\n",
    "        parts.append(row['revenue_alert'])\n",
    "    return \", \".join(parts)\n",
    "\n",
    "dataset1['Alert Summary'] = dataset1.apply(alert_summary, axis=1)\n",
    "\n",
    "# Statut global\n",
    "def global_status(row):\n",
    "    indicators = ['score_profitability', 'score_liquidity', 'score_solvency', 'score_leverage_adjusted']\n",
    "    red = sum(row[col] < thresholds['low'] for col in indicators if pd.notna(row[col]))\n",
    "    green = sum(row[col] > thresholds['high'] for col in indicators if pd.notna(row[col]))\n",
    "    leverage = row['score_leverage_adjusted']\n",
    "    rev = row['revenue_alert']\n",
    "\n",
    "    if leverage is not None and leverage < thresholds['low']:\n",
    "        return \"Leveraged Risk\"\n",
    "    if leverage is not None and leverage > thresholds['high'] and red == 0 and rev == \"Rev ↑\":\n",
    "        return \"Excellent Health\"\n",
    "    if leverage is not None and leverage > thresholds['high'] and red == 0:\n",
    "        return \"Strong Capital Efficiency\"\n",
    "    if red >= 3:\n",
    "        return \"Critical Risk\"\n",
    "    if red == 2:\n",
    "        return \"Danger\"\n",
    "    if green >= 2 and red == 0 and leverage <= thresholds['high']:\n",
    "        return \"Strong\"\n",
    "    if green >= 2 and red <= 1 or (green >= 1 and red == 0):\n",
    "        return \"Good signal\"\n",
    "    if red == green and red > 0:\n",
    "        return \"Mixed Risk\"\n",
    "    if red == 1 and green == 0:\n",
    "        return \"Caution\"\n",
    "    if all(0.2 <= row[col] <= 0.8 for col in indicators if pd.notna(row[col])):\n",
    "        return \"Stable\"\n",
    "    return \"Watch\"\n",
    "\n",
    "dataset1[\"Overall Status\"] = dataset1.apply(global_status, axis=1)\n",
    "\n",
    "# Widget pour sélection de société\n",
    "dropdown = widgets.Dropdown(\n",
    "    options=sorted(dataset1['company'].dropna().unique()),\n",
    "    description='Company:',\n",
    "    value=dataset1['company'].dropna().unique()[0]\n",
    ")\n",
    "\n",
    "output = widgets.Output()\n",
    "\n",
    "def display_summary(change):\n",
    "    with output:\n",
    "        clear_output()\n",
    "        df = dataset1[dataset1['company'] == change['new']].copy()\n",
    "        df = df[[\n",
    "            'quarter',\n",
    "            'score_profitability', 'score_profitability_local_flag', 'score_profitability_global_flag',\n",
    "            'score_liquidity', 'score_liquidity_local_flag', 'score_liquidity_global_flag',\n",
    "            'score_solvency', 'score_solvency_local_flag', 'score_solvency_global_flag',\n",
    "            'score_leverage_adjusted', 'score_leverage_adjusted_local_flag', 'score_leverage_adjusted_global_flag',\n",
    "            'revenue_alert', 'Alert Summary', 'Overall Status'\n",
    "        ]].reset_index(drop=True)\n",
    "        display(df)\n",
    "\n",
    "# Lancer\n",
    "dropdown.observe(display_summary, names='value')\n",
    "display(dropdown, output)\n",
    "display_summary({'new': dropdown.value})\n"
   ]
  },
  {
   "cell_type": "code",
   "execution_count": null,
   "id": "7a443066",
   "metadata": {},
   "outputs": [],
   "source": [
    "# Thresholds\n",
    "low_threshold = 0.1\n",
    "high_threshold = 0.9\n",
    "\n",
    "# Helper: flag anomalies\n",
    "def flag_anomalies(df, score_col, suffix):\n",
    "    df[f'is_low_{suffix}'] = df[score_col] < low_threshold\n",
    "    df[f'is_high_{suffix}'] = df[score_col] > high_threshold\n",
    "    return df\n",
    "\n",
    "# Apply to each score type\n",
    "for score_type in ['profitability', 'liquidity', 'solvency', 'leverage_adjusted']:\n",
    "    dataset1 = flag_anomalies(dataset1, f'score_{score_type}_local', f'{score_type}_local')\n",
    "    dataset1 = flag_anomalies(dataset1, f'score_{score_type}_global', f'{score_type}_global')\n",
    "\n",
    "# Combined anomaly detection (low local + low global)\n",
    "for score_type in ['profitability', 'liquidity', 'solvency', 'leverage_adjusted']:\n",
    "    dataset1[f'anomaly_low_{score_type}'] = (\n",
    "        dataset1[f'is_low_{score_type}_local'] & dataset1[f'is_low_{score_type}_global']\n",
    "    )\n",
    "\n",
    "# Optional: trend over time (score delta vs previous quarter)\n",
    "dataset1 = dataset1.sort_values(by=['company', 'quarter'])\n",
    "for score_type in ['profitability', 'liquidity', 'solvency', 'leverage_adjusted']:\n",
    "    dataset1[f'trend_{score_type}_local'] = dataset1.groupby('company')[f'score_{score_type}_local'].diff()\n",
    "    dataset1[f'trend_{score_type}_global'] = dataset1.groupby('company')[f'score_{score_type}_global'].diff()\n"
   ]
  },
  {
   "cell_type": "markdown",
   "id": "a5f3403b",
   "metadata": {},
   "source": []
  },
  {
   "cell_type": "code",
   "execution_count": null,
   "id": "3c1953db",
   "metadata": {},
   "outputs": [],
   "source": [
    "#bon"
   ]
  },
  {
   "cell_type": "code",
   "execution_count": null,
   "id": "29a13fdd",
   "metadata": {},
   "outputs": [
    {
     "name": "stderr",
     "output_type": "stream",
     "text": [
      "2025-06-03 09:56:30.970 Thread 'MainThread': missing ScriptRunContext! This warning can be ignored when running in bare mode.\n",
      "2025-06-03 09:56:30.970 Thread 'MainThread': missing ScriptRunContext! This warning can be ignored when running in bare mode.\n",
      "2025-06-03 09:56:30.975 Thread 'MainThread': missing ScriptRunContext! This warning can be ignored when running in bare mode.\n",
      "2025-06-03 09:56:30.975 Thread 'MainThread': missing ScriptRunContext! This warning can be ignored when running in bare mode.\n",
      "2025-06-03 09:56:30.977 Thread 'MainThread': missing ScriptRunContext! This warning can be ignored when running in bare mode.\n",
      "2025-06-03 09:56:30.977 Thread 'MainThread': missing ScriptRunContext! This warning can be ignored when running in bare mode.\n",
      "2025-06-03 09:56:30.977 Thread 'MainThread': missing ScriptRunContext! This warning can be ignored when running in bare mode.\n",
      "2025-06-03 09:56:30.977 Thread 'MainThread': missing ScriptRunContext! This warning can be ignored when running in bare mode.\n",
      "2025-06-03 09:56:30.977 Thread 'MainThread': missing ScriptRunContext! This warning can be ignored when running in bare mode.\n",
      "2025-06-03 09:56:30.983 Thread 'MainThread': missing ScriptRunContext! This warning can be ignored when running in bare mode.\n",
      "2025-06-03 09:56:30.983 Thread 'MainThread': missing ScriptRunContext! This warning can be ignored when running in bare mode.\n",
      "2025-06-03 09:56:30.983 Thread 'MainThread': missing ScriptRunContext! This warning can be ignored when running in bare mode.\n"
     ]
    },
    {
     "data": {
      "text/plain": [
       "DeltaGenerator()"
      ]
     },
     "execution_count": 114,
     "metadata": {},
     "output_type": "execute_result"
    }
   ],
   "source": []
  },
  {
   "cell_type": "code",
   "execution_count": null,
   "id": "b5c1f0e0",
   "metadata": {},
   "outputs": [
    {
     "ename": "SyntaxError",
     "evalue": "invalid syntax (507122745.py, line 1)",
     "output_type": "error",
     "traceback": [
      "\u001b[1;36m  Cell \u001b[1;32mIn[115], line 1\u001b[1;36m\u001b[0m\n\u001b[1;33m    streamlit run app.py\u001b[0m\n\u001b[1;37m              ^\u001b[0m\n\u001b[1;31mSyntaxError\u001b[0m\u001b[1;31m:\u001b[0m invalid syntax\n"
     ]
    }
   ],
   "source": []
  }
 ],
 "metadata": {
  "kernelspec": {
   "display_name": "base",
   "language": "python",
   "name": "python3"
  },
  "language_info": {
   "codemirror_mode": {
    "name": "ipython",
    "version": 3
   },
   "file_extension": ".py",
   "mimetype": "text/x-python",
   "name": "python",
   "nbconvert_exporter": "python",
   "pygments_lexer": "ipython3",
   "version": "3.11.4"
  }
 },
 "nbformat": 4,
 "nbformat_minor": 5
}
